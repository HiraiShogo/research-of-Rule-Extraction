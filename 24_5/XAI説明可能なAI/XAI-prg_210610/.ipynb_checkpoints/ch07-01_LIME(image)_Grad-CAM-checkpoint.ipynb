{
 "cells": [
  {
   "cell_type": "markdown",
   "metadata": {
    "id": "WxlAPl0Rzskb"
   },
   "source": [
    "## ライブラリの準備"
   ]
  },
  {
   "cell_type": "code",
   "execution_count": null,
   "metadata": {
    "id": "4WGN5g6Pe-kY"
   },
   "outputs": [],
   "source": [
    "# 共通で必要なモジュールのインストール\n",
    "!pip install torch==1.7.0 torchvision==0.8.1\n",
    "!pip install matplotlib==3.2.2"
   ]
  },
  {
   "cell_type": "markdown",
   "metadata": {
    "id": "DGwFyIDGcxmE"
   },
   "source": [
    "## 検証対象のデータ"
   ]
  },
  {
   "cell_type": "code",
   "execution_count": null,
   "metadata": {
    "id": "MpuxLxiqcxmF"
   },
   "outputs": [],
   "source": [
    "# 検証サンプル画像\n",
    "!curl https://raw.githubusercontent.com/jacobgil/pytorch-grad-cam/master/examples/both.png -o both.png"
   ]
  },
  {
   "cell_type": "code",
   "execution_count": null,
   "metadata": {
    "colab": {
     "base_uri": "https://localhost:8080/",
     "height": 286
    },
    "executionInfo": {
     "elapsed": 7255,
     "status": "ok",
     "timestamp": 1611636357140,
     "user": {
      "displayName": "深沢祐太",
      "photoUrl": "",
      "userId": "03833884693397658533"
     },
     "user_tz": -540
    },
    "id": "39mN13f6cxmF",
    "outputId": "c7cea648-ab6e-4f8b-8868-18bf71f34be4",
    "scrolled": true
   },
   "outputs": [],
   "source": [
    "import matplotlib.pyplot as plt\n",
    "from PIL import Image\n",
    "\n",
    "img = Image.open('both.png').convert('RGB')\n",
    "plt.imshow(img)"
   ]
  },
  {
   "cell_type": "code",
   "execution_count": null,
   "metadata": {
    "id": "Q_n7MA13cxmF"
   },
   "outputs": [],
   "source": [
    "# クラスのラベル情報\n",
    "!curl https://raw.githubusercontent.com/marcotcr/lime/master/doc/notebooks/data/imagenet_class_index.json -o imagenet_class_index.json"
   ]
  },
  {
   "cell_type": "code",
   "execution_count": null,
   "metadata": {
    "executionInfo": {
     "elapsed": 7247,
     "status": "ok",
     "timestamp": 1611636357142,
     "user": {
      "displayName": "深沢祐太",
      "photoUrl": "",
      "userId": "03833884693397658533"
     },
     "user_tz": -540
    },
    "id": "WA63iJyQcxmH",
    "scrolled": true
   },
   "outputs": [],
   "source": [
    "import json\n",
    "\n",
    "with open(\"imagenet_class_index.json\", \"r\") as f:\n",
    "    cls_idx = json.load(f)\n",
    "    idx2label = [cls_idx[str(k)][1] for k in range(len(cls_idx))]"
   ]
  },
  {
   "cell_type": "markdown",
   "metadata": {
    "id": "JSl-jM9NcxmF"
   },
   "source": [
    "## AIモデルの準備と予測"
   ]
  },
  {
   "cell_type": "code",
   "execution_count": null,
   "metadata": {
    "executionInfo": {
     "elapsed": 7709,
     "status": "ok",
     "timestamp": 1611636357610,
     "user": {
      "displayName": "深沢祐太",
      "photoUrl": "",
      "userId": "03833884693397658533"
     },
     "user_tz": -540
    },
    "id": "CWjqZ6grcxmH",
    "scrolled": true
   },
   "outputs": [],
   "source": [
    "import torch\n",
    "import torch.nn as nn\n",
    "from torchvision import models, transforms\n",
    "import torch.nn.functional as F\n",
    "\n",
    "# 学習済みモデルの読み込み\n",
    "device = torch.device(\"cuda\" if torch.cuda.is_available() else \"cpu\")\n",
    "model = models.resnet50(pretrained=True)\n",
    "model.eval()\n",
    "model.to(device)"
   ]
  },
  {
   "cell_type": "code",
   "execution_count": null,
   "metadata": {
    "colab": {
     "base_uri": "https://localhost:8080/"
    },
    "executionInfo": {
     "elapsed": 7702,
     "status": "ok",
     "timestamp": 1611636357610,
     "user": {
      "displayName": "深沢祐太",
      "photoUrl": "",
      "userId": "03833884693397658533"
     },
     "user_tz": -540
    },
    "id": "-Vp6Is3IcxmH",
    "outputId": "73e8af6c-faa3-4355-aecd-5e7332d984d8",
    "scrolled": true
   },
   "outputs": [],
   "source": [
    "# 画像のプリプロセス\n",
    "preprocess = transforms.Compose(\n",
    "    [\n",
    "        transforms.ToTensor(),\n",
    "        transforms.Normalize(\n",
    "            mean=[0.485, 0.456, 0.406],\n",
    "            std=[0.229, 0.224, 0.225]\n",
    "        ) \n",
    "    ]\n",
    ")\n",
    "\n",
    "# モデルの推論\n",
    "img_tensor = preprocess(img).unsqueeze(0).to(device)\n",
    "logits = model(img_tensor)\n",
    "probs = F.softmax(logits, dim=1)\n",
    "\n",
    "# 上位5位の結果を確認\n",
    "probs5 = probs.topk(5)\n",
    "probability = probs5[0][0].detach().cpu().numpy()\n",
    "class_id = probs5[1][0].detach().cpu().numpy()\n",
    "for p, c in zip(probability, class_id):\n",
    "    print((p, c, idx2label[c]))"
   ]
  },
  {
   "cell_type": "markdown",
   "metadata": {
    "id": "88WctJJ6GKUi"
   },
   "source": [
    "## LIMEによる説明"
   ]
  },
  {
   "cell_type": "code",
   "execution_count": null,
   "metadata": {
    "id": "1GkeSis9YtpI"
   },
   "outputs": [],
   "source": [
    "# LIMEのインストール\n",
    "!pip install lime==0.2.0.1"
   ]
  },
  {
   "cell_type": "markdown",
   "metadata": {
    "id": "hmjQx-vqcxmK"
   },
   "source": [
    "### LIMEによるAIモデルの説明"
   ]
  },
  {
   "cell_type": "markdown",
   "metadata": {
    "id": "zkA2W9e_cxmJ"
   },
   "source": [
    "#### 画像の領域分割"
   ]
  },
  {
   "cell_type": "code",
   "execution_count": null,
   "metadata": {},
   "outputs": [],
   "source": [
    "from lime.wrappers.scikit_image import SegmentationAlgorithm \n",
    "import numpy as np \n",
    "from skimage.segmentation import mark_boundaries \n",
    " \n",
    "# 画像の領域分割（quickshift）\n",
    "segmentation_fn = SegmentationAlgorithm( \n",
    "    'quickshift', \n",
    "    kernel_size=4, \n",
    "    max_dist=200, ratio=0.2, \n",
    "    random_seed=42 \n",
    ") \n",
    " \n",
    "segments = segmentation_fn(img) \n",
    "plt.imshow(mark_boundaries(np.array(img), segments))"
   ]
  },
  {
   "cell_type": "code",
   "execution_count": null,
   "metadata": {
    "colab": {
     "base_uri": "https://localhost:8080/",
     "height": 286
    },
    "executionInfo": {
     "elapsed": 9886,
     "status": "ok",
     "timestamp": 1611636359803,
     "user": {
      "displayName": "深沢祐太",
      "photoUrl": "",
      "userId": "03833884693397658533"
     },
     "user_tz": -540
    },
    "id": "U-kgDFxIcxmJ",
    "outputId": "39f8108f-7711-4068-d172-ac6ff3127ec9",
    "scrolled": true
   },
   "outputs": [],
   "source": [
    "# 画像の領域分割（slic）\n",
    "segmentation_fn = SegmentationAlgorithm(\"slic\")\n",
    "segments = segmentation_fn(img)\n",
    "plt.imshow(mark_boundaries(np.array(img), segments))"
   ]
  },
  {
   "cell_type": "markdown",
   "metadata": {
    "id": "at9UZFZIPvZ9"
   },
   "source": [
    "#### LIMEによる説明の作成"
   ]
  },
  {
   "cell_type": "code",
   "execution_count": null,
   "metadata": {
    "colab": {
     "base_uri": "https://localhost:8080/",
     "height": 66,
     "referenced_widgets": [
      "75f3aff654014de2afe75ac2fbb94889",
      "e59faceb75ab428b97ac57c276f0ad9e",
      "b5c21f5f13da4a408f045ae279d0743b",
      "8291766dca2f4994a1234bc7c9536b4c",
      "35274e1e1aee47a4bebf028bdc185d12",
      "53e6ce6ba3064d919b22413a7e39707f",
      "c1fc30bee14942c6835266987956aa7a",
      "5c357fa13e794c95b29fca2a31c47ba2"
     ]
    },
    "executionInfo": {
     "elapsed": 42445,
     "status": "ok",
     "timestamp": 1611636392375,
     "user": {
      "displayName": "深沢祐太",
      "photoUrl": "",
      "userId": "03833884693397658533"
     },
     "user_tz": -540
    },
    "id": "_HkH8xlqcxmK",
    "outputId": "9c84f97f-ee82-4d88-d11b-11ef0e5b68be",
    "scrolled": true
   },
   "outputs": [],
   "source": [
    "def batch_predict(images):\n",
    "    # 画像のプリプロセスとbatch化\n",
    "    batch = torch.stack(tuple(preprocess(i) for i in images), dim=0)\n",
    "    batch = batch.to(device)\n",
    "    \n",
    "    # モデルの推論\n",
    "    logits = model(batch)\n",
    "    probs = F.softmax(logits, dim=1)\n",
    "    return probs.detach().cpu().numpy()\n",
    "\n",
    "from lime import lime_image\n",
    "\n",
    "explainer = lime_image.LimeImageExplainer(random_state=42)\n",
    "explanation = explainer.explain_instance(\n",
    "    np.array(img), \n",
    "    batch_predict,\n",
    "    top_labels=2, \n",
    "    hide_color=0,\n",
    "    num_samples=5000,\n",
    "    segmentation_fn=segmentation_fn\n",
    ")"
   ]
  },
  {
   "cell_type": "markdown",
   "metadata": {
    "id": "GkCEo2M5cxmL"
   },
   "source": [
    "### LIMEの説明の可視化と解釈"
   ]
  },
  {
   "cell_type": "markdown",
   "metadata": {},
   "source": [
    "bull_mastiffの可視化"
   ]
  },
  {
   "cell_type": "code",
   "execution_count": null,
   "metadata": {
    "colab": {
     "base_uri": "https://localhost:8080/"
    },
    "executionInfo": {
     "elapsed": 42440,
     "status": "ok",
     "timestamp": 1611636392376,
     "user": {
      "displayName": "深沢祐太",
      "photoUrl": "",
      "userId": "03833884693397658533"
     },
     "user_tz": -540
    },
    "id": "Sf_EKjhokFd7",
    "outputId": "54c11e60-ce6e-44ff-f957-cf59e2d0fea3"
   },
   "outputs": [],
   "source": [
    "class_index = explanation.top_labels[0]\n",
    "class_label = idx2label[class_index]\n",
    "print(f\"class_index: {class_index}, class_label: {class_label}\")"
   ]
  },
  {
   "cell_type": "code",
   "execution_count": null,
   "metadata": {
    "colab": {
     "base_uri": "https://localhost:8080/",
     "height": 286
    },
    "executionInfo": {
     "elapsed": 43054,
     "status": "ok",
     "timestamp": 1611636392998,
     "user": {
      "displayName": "深沢祐太",
      "photoUrl": "",
      "userId": "03833884693397658533"
     },
     "user_tz": -540
    },
    "id": "OeOs4r4ycxmL",
    "outputId": "ead5557e-380e-44df-93f1-2b8af360bda9",
    "scrolled": false
   },
   "outputs": [],
   "source": [
    "image, mask = explanation.get_image_and_mask(\n",
    "    class_index, positive_only=False, num_features=5, hide_rest=False\n",
    ")\n",
    "img_boundry = mark_boundaries(image, mask)\n",
    "plt.imshow(img_boundry)"
   ]
  },
  {
   "cell_type": "markdown",
   "metadata": {},
   "source": [
    "tiger_catの可視化"
   ]
  },
  {
   "cell_type": "code",
   "execution_count": null,
   "metadata": {
    "colab": {
     "base_uri": "https://localhost:8080/"
    },
    "executionInfo": {
     "elapsed": 43048,
     "status": "ok",
     "timestamp": 1611636392998,
     "user": {
      "displayName": "深沢祐太",
      "photoUrl": "",
      "userId": "03833884693397658533"
     },
     "user_tz": -540
    },
    "id": "nSshWAb1kTi1",
    "outputId": "dad0a325-76cd-49c6-80a2-8b8c2c0a9deb"
   },
   "outputs": [],
   "source": [
    "class_index = explanation.top_labels[1]\n",
    "class_label = idx2label[class_index]\n",
    "print(f\"class_index: {class_index}, class_label: {class_label}\")"
   ]
  },
  {
   "cell_type": "code",
   "execution_count": null,
   "metadata": {
    "colab": {
     "base_uri": "https://localhost:8080/",
     "height": 286
    },
    "executionInfo": {
     "elapsed": 43940,
     "status": "ok",
     "timestamp": 1611636393896,
     "user": {
      "displayName": "深沢祐太",
      "photoUrl": "",
      "userId": "03833884693397658533"
     },
     "user_tz": -540
    },
    "id": "LAaDptu-cxmL",
    "outputId": "521f382c-8314-49de-c93e-06a175a39ae5",
    "scrolled": true
   },
   "outputs": [],
   "source": [
    "image, mask = explanation.get_image_and_mask(\n",
    "    class_index,\n",
    "    positive_only=False,\n",
    "    negative_only=False,\n",
    "    num_features=5,\n",
    "    hide_rest=False\n",
    ")\n",
    "img_boundry = mark_boundaries(image, mask)\n",
    "plt.imshow(img_boundry)"
   ]
  },
  {
   "cell_type": "markdown",
   "metadata": {
    "id": "PMrmdQXAcxmL"
   },
   "source": [
    "#### 寄与の大きい部分領域"
   ]
  },
  {
   "cell_type": "markdown",
   "metadata": {},
   "source": [
    "bull_mastiffの上位5位の領域と寄与度"
   ]
  },
  {
   "cell_type": "code",
   "execution_count": null,
   "metadata": {
    "colab": {
     "base_uri": "https://localhost:8080/",
     "height": 1000
    },
    "executionInfo": {
     "elapsed": 44887,
     "status": "ok",
     "timestamp": 1611636394849,
     "user": {
      "displayName": "深沢祐太",
      "photoUrl": "",
      "userId": "03833884693397658533"
     },
     "user_tz": -540
    },
    "id": "uCf9_sprcxmP",
    "outputId": "299a1f5c-36c0-4525-a65c-e5bf7255d173",
    "scrolled": false
   },
   "outputs": [],
   "source": [
    "# bull_mastiffのindexの取得\n",
    "index = explanation.top_labels[0]\n",
    "\n",
    "for i in range(5):\n",
    "    # 領域のindexと寄与度\n",
    "    area_index, value = explanation.local_exp[index][i]\n",
    "    print(f\"area_index: {area_index}, value: {value}\")\n",
    "\n",
    "    # 画像の可視化\n",
    "    image = explanation.image.copy()\n",
    "    c = 0 if value < 0 else 1\n",
    "    image[segments == area_index, c] = np.max(image)\n",
    "    plt.imshow(image)\n",
    "    plt.show()"
   ]
  },
  {
   "cell_type": "markdown",
   "metadata": {},
   "source": [
    "tiger_catの上位5位の領域と寄与度"
   ]
  },
  {
   "cell_type": "code",
   "execution_count": null,
   "metadata": {
    "colab": {
     "base_uri": "https://localhost:8080/",
     "height": 1000
    },
    "executionInfo": {
     "elapsed": 45754,
     "status": "ok",
     "timestamp": 1611636395722,
     "user": {
      "displayName": "深沢祐太",
      "photoUrl": "",
      "userId": "03833884693397658533"
     },
     "user_tz": -540
    },
    "id": "zLk9N649cxmQ",
    "outputId": "cf9f218a-9c77-4c61-e2ee-5b2edcf57378"
   },
   "outputs": [],
   "source": [
    "# tiger_catのindexの取得\n",
    "index = explanation.top_labels[1]\n",
    "\n",
    "for i in range(5):\n",
    "    # 領域のindexと寄与度\n",
    "    area_index, value = explanation.local_exp[index][i]\n",
    "    print(f\"area_index: {area_index}, value: {value}\")\n",
    "\n",
    "    # 画像の可視化\n",
    "    image = explanation.image.copy()\n",
    "    c = 0 if value < 0 else 1\n",
    "    image[segments == area_index, c] = np.max(image)\n",
    "    plt.imshow(image)\n",
    "    plt.show()"
   ]
  },
  {
   "cell_type": "markdown",
   "metadata": {
    "id": "zvW6LJh0cxmR"
   },
   "source": [
    "#### 全領域に対する可視化"
   ]
  },
  {
   "cell_type": "markdown",
   "metadata": {
    "id": "s9HMAiMDijyH"
   },
   "source": [
    "bull_mastiffに対しての全領域の可視化"
   ]
  },
  {
   "cell_type": "code",
   "execution_count": null,
   "metadata": {
    "colab": {
     "base_uri": "https://localhost:8080/",
     "height": 286
    },
    "executionInfo": {
     "elapsed": 45749,
     "status": "ok",
     "timestamp": 1611636395723,
     "user": {
      "displayName": "深沢祐太",
      "photoUrl": "",
      "userId": "03833884693397658533"
     },
     "user_tz": -540
    },
    "id": "flK45LNWcxmR",
    "outputId": "9771798c-0f3e-4db5-977a-e0d9c02510c8",
    "scrolled": true
   },
   "outputs": [],
   "source": [
    "# bull_mastiffのindexの取得\n",
    "index =  explanation.top_labels[0]\n",
    "\n",
    "# heatmapの生成\n",
    "dict_heatmap = dict(explanation.local_exp[index])\n",
    "heatmap = np.vectorize(dict_heatmap.get)(explanation.segments) \n",
    "\n",
    "# heatmapの可視化\n",
    "plt.imshow(img)\n",
    "plt.imshow(heatmap, alpha=0.5, cmap='jet')\n",
    "plt.colorbar()"
   ]
  },
  {
   "cell_type": "markdown",
   "metadata": {},
   "source": [
    "tiger_catに対しての全領域の可視化"
   ]
  },
  {
   "cell_type": "code",
   "execution_count": null,
   "metadata": {
    "colab": {
     "base_uri": "https://localhost:8080/",
     "height": 286
    },
    "executionInfo": {
     "elapsed": 45743,
     "status": "ok",
     "timestamp": 1611636395724,
     "user": {
      "displayName": "深沢祐太",
      "photoUrl": "",
      "userId": "03833884693397658533"
     },
     "user_tz": -540
    },
    "id": "5wDnsn61cxmR",
    "outputId": "7eb2e746-3884-40ab-ff84-8e7ff5c4b8f9",
    "scrolled": true
   },
   "outputs": [],
   "source": [
    "# tiger_catのindexの取得\n",
    "index =  explanation.top_labels[1]\n",
    "\n",
    "# heatmapの生成\n",
    "dict_heatmap = dict(explanation.local_exp[index])\n",
    "heatmap = np.vectorize(dict_heatmap.get)(explanation.segments) \n",
    "\n",
    "# heatmapの可視化\n",
    "plt.imshow(img)\n",
    "plt.imshow(heatmap, alpha=0.5, cmap='jet')\n",
    "plt.colorbar()"
   ]
  },
  {
   "cell_type": "markdown",
   "metadata": {
    "id": "NleXB7OEHNVt"
   },
   "source": [
    "## Grad-CAMによる説明"
   ]
  },
  {
   "cell_type": "code",
   "execution_count": null,
   "metadata": {
    "id": "JMAcMSNDuTIo"
   },
   "outputs": [],
   "source": [
    "# pytorch-grad-camの依存モジュールのOpenCVのインストール\n",
    "!pip install opencv-python==4.5.1.48"
   ]
  },
  {
   "cell_type": "code",
   "execution_count": null,
   "metadata": {
    "id": "l0Dfdk2AjfiS"
   },
   "outputs": [],
   "source": [
    "!git clone https://github.com/jacobgil/pytorch-grad-cam.git \n",
    "!cd pytorch-grad-cam && git checkout 6c83c8f  # Check out the latest commit hash on 2021/1"
   ]
  },
  {
   "cell_type": "code",
   "execution_count": null,
   "metadata": {
    "executionInfo": {
     "elapsed": 45738,
     "status": "ok",
     "timestamp": 1611636395725,
     "user": {
      "displayName": "深沢祐太",
      "photoUrl": "",
      "userId": "03833884693397658533"
     },
     "user_tz": -540
    },
    "id": "25VysflRjjSg"
   },
   "outputs": [],
   "source": [
    "# pytorch-grad-camをパスに追加\n",
    "import sys\n",
    "sys.path.append(\"pytorch-grad-cam\")"
   ]
  },
  {
   "cell_type": "markdown",
   "metadata": {
    "id": "i8E3Ofiokeav"
   },
   "source": [
    "### Grad-CAMによるAIモデルの説明"
   ]
  },
  {
   "cell_type": "code",
   "execution_count": null,
   "metadata": {
    "executionInfo": {
     "elapsed": 45732,
     "status": "ok",
     "timestamp": 1611636395725,
     "user": {
      "displayName": "深沢祐太",
      "photoUrl": "",
      "userId": "03833884693397658533"
     },
     "user_tz": -540
    },
    "id": "-aSuhkdNrWAq"
   },
   "outputs": [],
   "source": [
    "from gradcam import GradCam\n",
    "\n",
    "grad_cam = GradCam(\n",
    "    model=model,\n",
    "    feature_module=model.layer4, \n",
    "    target_layer_names=[\"2\"], \n",
    "    use_cuda=torch.cuda.is_available()\n",
    ")\n",
    "\n",
    "grayscale_cam = grad_cam(img_tensor, idx2label.index(\"bull_mastiff\"))"
   ]
  },
  {
   "cell_type": "markdown",
   "metadata": {
    "id": "9QlmrAzwPIgb"
   },
   "source": [
    "### Grad-CAMの説明の可視化と解釈"
   ]
  },
  {
   "cell_type": "markdown",
   "metadata": {
    "id": "XVvrNcntQZK4"
   },
   "source": [
    "bull_mastiffに対しての可視化"
   ]
  },
  {
   "cell_type": "code",
   "execution_count": null,
   "metadata": {
    "colab": {
     "base_uri": "https://localhost:8080/",
     "height": 286
    },
    "executionInfo": {
     "elapsed": 46502,
     "status": "ok",
     "timestamp": 1611636396501,
     "user": {
      "displayName": "深沢祐太",
      "photoUrl": "",
      "userId": "03833884693397658533"
     },
     "user_tz": -540
    },
    "id": "4TUMqQUnsflA",
    "outputId": "5be623aa-c5f1-41af-cb76-daee1d3d052a"
   },
   "outputs": [],
   "source": [
    "import cv2\n",
    "\n",
    "plt.imshow(img)\n",
    "plt.imshow(\n",
    "    cv2.resize(grayscale_cam, (image.shape[1], image.shape[0])),\n",
    "    alpha=0.5,\n",
    "    cmap='jet'\n",
    ")\n",
    "plt.colorbar()"
   ]
  },
  {
   "cell_type": "markdown",
   "metadata": {
    "id": "qgXs30vOk7wE"
   },
   "source": [
    "tiger_catに対しての可視化"
   ]
  },
  {
   "cell_type": "code",
   "execution_count": null,
   "metadata": {
    "colab": {
     "base_uri": "https://localhost:8080/",
     "height": 286
    },
    "executionInfo": {
     "elapsed": 46496,
     "status": "ok",
     "timestamp": 1611636396502,
     "user": {
      "displayName": "深沢祐太",
      "photoUrl": "",
      "userId": "03833884693397658533"
     },
     "user_tz": -540
    },
    "id": "RxyTcKOksAkz",
    "outputId": "eba13762-bf0b-410a-9ff7-decd2411625a"
   },
   "outputs": [],
   "source": [
    "grayscale_cam = grad_cam(img_tensor, idx2label.index(\"tiger_cat\"))\n",
    "\n",
    "plt.imshow(img)\n",
    "plt.imshow(\n",
    "    cv2.resize(grayscale_cam, (image.shape[1], image.shape[0])),\n",
    "    alpha=0.5,\n",
    "    cmap='jet'\n",
    ")\n",
    "plt.colorbar()"
   ]
  }
 ],
 "metadata": {
  "accelerator": "GPU",
  "celltoolbar": "Raw Cell Format",
  "colab": {
   "collapsed_sections": [],
   "name": "Section7.ipynb",
   "provenance": []
  },
  "kernelspec": {
   "display_name": "Python 3",
   "language": "python",
   "name": "python3"
  },
  "language_info": {
   "codemirror_mode": {
    "name": "ipython",
    "version": 3
   },
   "file_extension": ".py",
   "mimetype": "text/x-python",
   "name": "python",
   "nbconvert_exporter": "python",
   "pygments_lexer": "ipython3",
   "version": "3.7.7"
  },
  "widgets": {
   "application/vnd.jupyter.widget-state+json": {
    "35274e1e1aee47a4bebf028bdc185d12": {
     "model_module": "@jupyter-widgets/controls",
     "model_name": "ProgressStyleModel",
     "state": {
      "_model_module": "@jupyter-widgets/controls",
      "_model_module_version": "1.5.0",
      "_model_name": "ProgressStyleModel",
      "_view_count": null,
      "_view_module": "@jupyter-widgets/base",
      "_view_module_version": "1.2.0",
      "_view_name": "StyleView",
      "bar_color": null,
      "description_width": "initial"
     }
    },
    "53e6ce6ba3064d919b22413a7e39707f": {
     "model_module": "@jupyter-widgets/base",
     "model_name": "LayoutModel",
     "state": {
      "_model_module": "@jupyter-widgets/base",
      "_model_module_version": "1.2.0",
      "_model_name": "LayoutModel",
      "_view_count": null,
      "_view_module": "@jupyter-widgets/base",
      "_view_module_version": "1.2.0",
      "_view_name": "LayoutView",
      "align_content": null,
      "align_items": null,
      "align_self": null,
      "border": null,
      "bottom": null,
      "display": null,
      "flex": null,
      "flex_flow": null,
      "grid_area": null,
      "grid_auto_columns": null,
      "grid_auto_flow": null,
      "grid_auto_rows": null,
      "grid_column": null,
      "grid_gap": null,
      "grid_row": null,
      "grid_template_areas": null,
      "grid_template_columns": null,
      "grid_template_rows": null,
      "height": null,
      "justify_content": null,
      "justify_items": null,
      "left": null,
      "margin": null,
      "max_height": null,
      "max_width": null,
      "min_height": null,
      "min_width": null,
      "object_fit": null,
      "object_position": null,
      "order": null,
      "overflow": null,
      "overflow_x": null,
      "overflow_y": null,
      "padding": null,
      "right": null,
      "top": null,
      "visibility": null,
      "width": null
     }
    },
    "5c357fa13e794c95b29fca2a31c47ba2": {
     "model_module": "@jupyter-widgets/base",
     "model_name": "LayoutModel",
     "state": {
      "_model_module": "@jupyter-widgets/base",
      "_model_module_version": "1.2.0",
      "_model_name": "LayoutModel",
      "_view_count": null,
      "_view_module": "@jupyter-widgets/base",
      "_view_module_version": "1.2.0",
      "_view_name": "LayoutView",
      "align_content": null,
      "align_items": null,
      "align_self": null,
      "border": null,
      "bottom": null,
      "display": null,
      "flex": null,
      "flex_flow": null,
      "grid_area": null,
      "grid_auto_columns": null,
      "grid_auto_flow": null,
      "grid_auto_rows": null,
      "grid_column": null,
      "grid_gap": null,
      "grid_row": null,
      "grid_template_areas": null,
      "grid_template_columns": null,
      "grid_template_rows": null,
      "height": null,
      "justify_content": null,
      "justify_items": null,
      "left": null,
      "margin": null,
      "max_height": null,
      "max_width": null,
      "min_height": null,
      "min_width": null,
      "object_fit": null,
      "object_position": null,
      "order": null,
      "overflow": null,
      "overflow_x": null,
      "overflow_y": null,
      "padding": null,
      "right": null,
      "top": null,
      "visibility": null,
      "width": null
     }
    },
    "75f3aff654014de2afe75ac2fbb94889": {
     "model_module": "@jupyter-widgets/controls",
     "model_name": "HBoxModel",
     "state": {
      "_dom_classes": [],
      "_model_module": "@jupyter-widgets/controls",
      "_model_module_version": "1.5.0",
      "_model_name": "HBoxModel",
      "_view_count": null,
      "_view_module": "@jupyter-widgets/controls",
      "_view_module_version": "1.5.0",
      "_view_name": "HBoxView",
      "box_style": "",
      "children": [
       "IPY_MODEL_b5c21f5f13da4a408f045ae279d0743b",
       "IPY_MODEL_8291766dca2f4994a1234bc7c9536b4c"
      ],
      "layout": "IPY_MODEL_e59faceb75ab428b97ac57c276f0ad9e"
     }
    },
    "8291766dca2f4994a1234bc7c9536b4c": {
     "model_module": "@jupyter-widgets/controls",
     "model_name": "HTMLModel",
     "state": {
      "_dom_classes": [],
      "_model_module": "@jupyter-widgets/controls",
      "_model_module_version": "1.5.0",
      "_model_name": "HTMLModel",
      "_view_count": null,
      "_view_module": "@jupyter-widgets/controls",
      "_view_module_version": "1.5.0",
      "_view_name": "HTMLView",
      "description": "",
      "description_tooltip": null,
      "layout": "IPY_MODEL_5c357fa13e794c95b29fca2a31c47ba2",
      "placeholder": "​",
      "style": "IPY_MODEL_c1fc30bee14942c6835266987956aa7a",
      "value": " 5000/5000 [00:32&lt;00:00, 154.79it/s]"
     }
    },
    "b5c21f5f13da4a408f045ae279d0743b": {
     "model_module": "@jupyter-widgets/controls",
     "model_name": "FloatProgressModel",
     "state": {
      "_dom_classes": [],
      "_model_module": "@jupyter-widgets/controls",
      "_model_module_version": "1.5.0",
      "_model_name": "FloatProgressModel",
      "_view_count": null,
      "_view_module": "@jupyter-widgets/controls",
      "_view_module_version": "1.5.0",
      "_view_name": "ProgressView",
      "bar_style": "success",
      "description": "100%",
      "description_tooltip": null,
      "layout": "IPY_MODEL_53e6ce6ba3064d919b22413a7e39707f",
      "max": 5000,
      "min": 0,
      "orientation": "horizontal",
      "style": "IPY_MODEL_35274e1e1aee47a4bebf028bdc185d12",
      "value": 5000
     }
    },
    "c1fc30bee14942c6835266987956aa7a": {
     "model_module": "@jupyter-widgets/controls",
     "model_name": "DescriptionStyleModel",
     "state": {
      "_model_module": "@jupyter-widgets/controls",
      "_model_module_version": "1.5.0",
      "_model_name": "DescriptionStyleModel",
      "_view_count": null,
      "_view_module": "@jupyter-widgets/base",
      "_view_module_version": "1.2.0",
      "_view_name": "StyleView",
      "description_width": ""
     }
    },
    "e59faceb75ab428b97ac57c276f0ad9e": {
     "model_module": "@jupyter-widgets/base",
     "model_name": "LayoutModel",
     "state": {
      "_model_module": "@jupyter-widgets/base",
      "_model_module_version": "1.2.0",
      "_model_name": "LayoutModel",
      "_view_count": null,
      "_view_module": "@jupyter-widgets/base",
      "_view_module_version": "1.2.0",
      "_view_name": "LayoutView",
      "align_content": null,
      "align_items": null,
      "align_self": null,
      "border": null,
      "bottom": null,
      "display": null,
      "flex": null,
      "flex_flow": null,
      "grid_area": null,
      "grid_auto_columns": null,
      "grid_auto_flow": null,
      "grid_auto_rows": null,
      "grid_column": null,
      "grid_gap": null,
      "grid_row": null,
      "grid_template_areas": null,
      "grid_template_columns": null,
      "grid_template_rows": null,
      "height": null,
      "justify_content": null,
      "justify_items": null,
      "left": null,
      "margin": null,
      "max_height": null,
      "max_width": null,
      "min_height": null,
      "min_width": null,
      "object_fit": null,
      "object_position": null,
      "order": null,
      "overflow": null,
      "overflow_x": null,
      "overflow_y": null,
      "padding": null,
      "right": null,
      "top": null,
      "visibility": null,
      "width": null
     }
    }
   }
  }
 },
 "nbformat": 4,
 "nbformat_minor": 1
}
